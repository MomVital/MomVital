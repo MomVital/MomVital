{
 "cells": [
  {
   "cell_type": "code",
   "execution_count": 22,
   "metadata": {},
   "outputs": [],
   "source": [
    "base_url = \"https://www.nhs.uk/start-for-life/pregnancy/week-by-week-guide-to-pregnancy/\"\n",
    "trimester = {\n",
    "    1: {\n",
    "        \"url\": \"1st-trimester/week-\",\n",
    "        \"weeks\": list(range(4, 13))\n",
    "    },\n",
    "    2: {\n",
    "        \"url\": \"2nd-trimester/week-\",\n",
    "        \"weeks\": list(range(13, 28))\n",
    "    },\n",
    "    3: {\n",
    "        \"url\": \"3rd-trimester/week-\",\n",
    "        \"weeks\": list(range(28, 42))\n",
    "    }\n",
    "}\n",
    "\n",
    "import requests\n",
    "from bs4 import BeautifulSoup\n",
    "from langchain.docstore.document import Document\n",
    "\n",
    "def url_builder(week: int):\n",
    "    if week < 4 or week > 41:\n",
    "        raise ValueError(\"Week out of bound!\")\n",
    "    target = [key for key, subdict in trimester.items() if week in subdict.get(\"weeks\", [])][0]\n",
    "    return base_url + trimester[target]['url'] + str(week) + '/'\n",
    "\n",
    "def scrape_week_content(week_number: int):\n",
    "    docs = []\n",
    "\n",
    "    response = requests.get(url_builder(week_number))\n",
    "    if response.status_code == 200:\n",
    "        soup = BeautifulSoup(response.text, 'html.parser')\n",
    "\n",
    "        intro = soup.select_one(\"#maincontent > section:first-of-type div.nhsuk-u-reading-width\")\n",
    "        if intro:\n",
    "            doc = Document(\n",
    "                page_content=intro.get_text(separator=\" \", strip=True),\n",
    "                metadata={\"week\": week_number, \"section\": \"intro\"}\n",
    "            )\n",
    "            docs.append(doc)\n",
    "        else:\n",
    "            print(\"Intro not found.\")\n",
    "\n",
    "        start_section = soup.find(\"section\", id=\"whats-happening\")\n",
    "        end_section = soup.find(\"section\", id=\"action-stations\")\n",
    "        \n",
    "        current_section = start_section if start_section else None\n",
    "        \n",
    "        while current_section:\n",
    "            section_id = current_section.get(\"id\")\n",
    "            if not section_id:\n",
    "                heading_tag = current_section.find([\"h1\", \"h2\", \"h3\", \"h4\", \"h5\", \"h6\"])\n",
    "                if heading_tag:\n",
    "                    section_id = heading_tag.get_text(strip=True)\n",
    "                else:\n",
    "                    section_id = \"No ID\"\n",
    "            doc = Document(\n",
    "                page_content=current_section.get_text(separator=\" \", strip=True),\n",
    "                metadata={\"week\": week_number, \"section\": section_id}\n",
    "            )\n",
    "            docs.append(doc)\n",
    "            if current_section == end_section:\n",
    "                break  # Stop after including the end section\n",
    "            current_section = current_section.find_next_sibling(\"section\")\n",
    "    else:\n",
    "        print(f\"Failed to fetch page. Status code: {response.status_code}\")\n",
    "\n",
    "    return docs"
   ]
  },
  {
   "cell_type": "code",
   "execution_count": 23,
   "metadata": {},
   "outputs": [],
   "source": [
    "all_docs = []\n",
    "\n",
    "for week in range(4, 42):\n",
    "    all_docs.extend(scrape_week_content(week))"
   ]
  },
  {
   "cell_type": "code",
   "execution_count": 24,
   "metadata": {},
   "outputs": [],
   "source": [
    "from langchain.docstore.document import Document\n",
    "from langchain.embeddings import HuggingFaceEmbeddings\n",
    "from langchain.vectorstores import FAISS\n",
    "\n",
    "embeddings_model = HuggingFaceEmbeddings(model_name=\"all-MiniLM-L6-v2\")\n",
    "vectordb = FAISS.from_documents(all_docs, embeddings_model)"
   ]
  },
  {
   "cell_type": "code",
   "execution_count": 37,
   "metadata": {},
   "outputs": [],
   "source": [
    "import re\n",
    "\n",
    "def search(query, vectordb=vectordb, k=20):\n",
    "    # Perform similarity search\n",
    "    results = vectordb.similarity_search_with_score(query, k=k)\n",
    "    return results\n",
    "    \n",
    "\n",
    "def search_filter(results_with_score=None, vectordb=vectordb, week_filter=None, section_filter=None):\n",
    "    documents = results_with_score or [(doc, None) for doc in vectordb.docstore._dict.values()]\n",
    "    return [\n",
    "        (doc, score) for doc, score in documents\n",
    "        if (week_filter is None or doc.metadata.get(\"week\") == week_filter)\n",
    "        and (section_filter is None or doc.metadata.get(\"section\") == section_filter)\n",
    "    ]\n",
    "\n",
    "def get_content_by_week(week: int):\n",
    "    docs = search_filter(week_filter=week)\n",
    "    result = \"\"\n",
    "    line = \"=\" * 50\n",
    "\n",
    "    for doc, score in docs:\n",
    "        title = f\"\\nWEEK: {doc.metadata['week']}; SECTION: {doc.metadata['section']}\\n\\n\"\n",
    "        content = doc.page_content\n",
    "\n",
    "        result += \"\\n\" + line + title + re.sub(r'([.!?])\\s*', r'\\1\\n', content) + line\n",
    "\n",
    "    return result"
   ]
  },
  {
   "cell_type": "code",
   "execution_count": 7,
   "metadata": {},
   "outputs": [
    {
     "data": {
      "text/plain": [
       "(277, [])"
      ]
     },
     "execution_count": 7,
     "metadata": {},
     "output_type": "execute_result"
    }
   ],
   "source": [
    "len(search_filter()), search_filter(section_filter=\"No ID\")"
   ]
  },
  {
   "cell_type": "code",
   "execution_count": 36,
   "metadata": {},
   "outputs": [
    {
     "name": "stdout",
     "output_type": "stream",
     "text": [
      "\n",
      "==================================================\n",
      "WEEK: 10; SECTION: intro\n",
      "\n",
      "Week 10 Welcome to week 10.\n",
      "Pregnancy is divided into 3 chunks, called \"trimesters\".\n",
      "You are nearly at the end of your 1st trimester.\n",
      "By the 2nd trimester you will probably have lots more energy and all those signs of early pregnancy will gradually fade away.\n",
      "Around now, you may have a booking appointment with a midwife.\n",
      "You'll be asked lots of questions about your health and medical history.\n",
      "You can ask lots of questions too.\n",
      "==================================================\n",
      "==================================================\n",
      "WEEK: 10; SECTION: whats-happening\n",
      "\n",
      "What's happening in my body?\n",
      "You may be struggling to do up your jeans.\n",
      "Your uterus (womb) is around the size of a large orange, while your baby is more like the size of an apricot.\n",
      "You may be feeling bloated and you might find yourself burping or passing wind – this is due to your hormones.\n",
      "The female hormone progesterone is just doing its job – relaxing the muscles in your womb so that it can expand along with your growing baby.\n",
      "However, in the process, the muscles in your digestive tract also become looser and this can lead to symptoms such as heartburn.\n",
      "==================================================\n",
      "==================================================\n",
      "WEEK: 10; SECTION: early-pregnancy-signs\n",
      "\n",
      "Early pregnancy symptoms (at 10 weeks) Your signs of pregnancy may include: extreme tiredness nausea mood swings a metallic taste in your mouth sore breasts indigestion and heartburn headaches dizziness new likes and dislikes for food and drink a heightened sense of smell a white milky pregnancy discharge from your vagina light spotting (see your doctor if you get bleeding in pregnancy) cramping, a bit like period pains darkened skin on your face or brown patches - this is known as chloasma or the –mask of pregnancy– greasier, spotty skin thicker and shinier hair bloating and the feeling of being bloated Read Tommy's guide to common pregnancy symptoms.\n",
      "If any symptoms are worrying you, talk to your midwife or doctor.\n",
      "==================================================\n",
      "==================================================\n",
      "WEEK: 10; SECTION: bloating\n",
      "\n",
      "How to beat the bloating You can help digestive problems such as bloating and burping by changing what you eat.\n",
      "Try making yourself 6 small meals a day and avoid eating late at night.\n",
      "Eat slowly, sip fluids and avoid smoking and alcohol.\n",
      "A short stroll after meals may help.\n",
      "Some people find their symptoms happen after drinking coffee or eating rich, spicy and fatty foods.\n",
      "Read NHS advice on dealing with indigestion and heartburn in pregnancy.\n",
      "==================================================\n",
      "==================================================\n",
      "WEEK: 10; SECTION: look-like\n",
      "\n",
      "What does my baby look like?\n",
      "Your baby, or foetus, is now around 30mm long from head to bottom, which is about the size of a small apricot.\n",
      "The baby will be making jerky movements and baby's movement can be seen on a scan .\n",
      "Your baby is going through another huge growth spurt.\n",
      "The head is still too big for the body, but the face is more recognisably in proportion.\n",
      "The eyes are half closed but can react to light.\n",
      "The ears are starting to form, the mouth now has a delicate upper lip and the nose has 2 little nostrils.\n",
      "The jaw bone is shaping up too, and contains tiny versions of your baby's milk teeth.\n",
      "The heart is beating extremely quickly at 180bpm – that's about 3 times your heart rate.\n",
      "Your baby is about the size of an apricot.\n",
      "==================================================\n",
      "==================================================\n",
      "WEEK: 10; SECTION: action-stations\n",
      "\n",
      "Action stations See your midwife or GP Share the news with your GP or ask for an appointment with a midwife at your doctors' surgery.\n",
      "Alternatively you can refer yourself to your local hospital – look for contact details on their website.\n",
      "You'll need to arrange a booking appointment .\n",
      "This usually takes place between weeks 8 and 12, and takes around an hour.\n",
      "You can talk about the options for your pregnancy and the birth.\n",
      "Plus you'll be offered screening tests for infectious diseases, and conditions such as Down's syndrome.\n",
      "You could ask about the Maternity Transformation Programme and how it could benefit you.\n",
      "You will get your first dating scan at 8 to 14 weeks.\n",
      "If it's your first pregnancy you will probably have around 10 appointments and 2 scans in total.\n",
      "Ask if it's possible to see the same carer for your entire pregnancy, to give you continuity.\n",
      "Antenatal classes Ask your midwife or doctor about online antenatal classes – they may be able to recommend one.\n",
      "The charity Tommy's has lots of useful information on antenatal classes and preparing you for birth.\n",
      "Antenatal classes will give you the chance to meet other people and prepare you for parenthood.\n",
      "The NCT offers online antenatal classes with small groups of people that live locally to you.\n",
      "Smoking, drinking and caffeine in pregnancy Do your best to stop smoking and give up alcohol , and go easy on the tea, coffee and anything else with caffeine .\n",
      "Ask your midwife or GP for support.\n",
      "Vitamins in pregnancy Take prenatal vitamins .\n",
      "You're advised to take 400mcg of folic acid every day, until at least week 12.\n",
      "This helps to form your baby's nervous system and offers some protection from conditions such as spina bifida.\n",
      "To keep bones and muscles healthy, we need vitamin D.\n",
      "From late March/early April to the end of September, most people make enough vitamin D from sunlight on their skin.\n",
      "However, between October and early March, consider taking a daily vitamin D supplement because we cannot make enough from sunlight.\n",
      "Some people should take a vitamin D supplement all year round – find out if this applies to you on the NHS website.\n",
      "You just need 10 micrograms (it's the same for grown-ups and kids).\n",
      "Check if you're entitled to free vitamins .\n",
      "Exercising in pregnancy It's recommended that you do 150 minutes of exercise a week while pregnant .\n",
      "You could start off with just 10 minutes of daily exercise – perhaps take a brisk walk outside.\n",
      "Check out Sport England's #StayInWorkOut online exercises (scroll to the pregnancy section).\n",
      "Listen to your body and do what feels right for you.\n",
      "Healthy eating There's no need to eat for 2.\n",
      "You just need to eat a healthy balanced diet, with a variety of different foods every day, including plenty of fruit and veg.\n",
      "Have a look at our guide to healthy eating in pregnancy .\n",
      "You may be able to get free milk, fruit and veg through the Healthy Start scheme .\n",
      "Emotional and mental wellbeing How are you today?\n",
      "If you're feeling anxious or low, then talk to your midwife or doctor.\n",
      "They can point you in the right direction to get all the support that you need.\n",
      "You could also discuss your worries with your partner, friends and family.\n",
      "You may be worried about your relationship, or money, or having somewhere permanent to live.\n",
      "Don't keep it to yourself.\n",
      "It's important that you ask for help if you need it.\n",
      "==================================================\n"
     ]
    }
   ],
   "source": [
    "print(get_content_by_week(10))"
   ]
  },
  {
   "cell_type": "code",
   "execution_count": null,
   "metadata": {},
   "outputs": [],
   "source": [
    "vectordb.save_local(\"./vectordb\")"
   ]
  },
  {
   "cell_type": "code",
   "execution_count": null,
   "metadata": {},
   "outputs": [
    {
     "name": "stderr",
     "output_type": "stream",
     "text": [
      "C:\\Users\\mikiq\\AppData\\Local\\Temp\\ipykernel_33704\\3261608974.py:6: LangChainDeprecationWarning: The class `ChatOpenAI` was deprecated in LangChain 0.0.10 and will be removed in 1.0. An updated version of the class exists in the :class:`~langchain-openai package and should be used instead. To use it run `pip install -U :class:`~langchain-openai` and import as `from :class:`~langchain_openai import ChatOpenAI``.\n",
      "  llm = ChatOpenAI(\n"
     ]
    }
   ],
   "source": [
    "from langchain_openai import ChatOpenAI\n",
    "from langchain.prompts import PromptTemplate\n",
    "\n",
    "\n",
    "llm = ChatOpenAI(\n",
    "  openai_api_key=\"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\",\n",
    "  openai_api_base=\"https://openrouter.ai/api/v1\",\n",
    "  model_name=\"deepseek/deepseek-r1\"\n",
    ")\n"
   ]
  },
  {
   "cell_type": "code",
   "execution_count": 44,
   "metadata": {},
   "outputs": [
    {
     "name": "stderr",
     "output_type": "stream",
     "text": [
      "C:\\Users\\mikiq\\AppData\\Local\\Temp\\ipykernel_33704\\1634147895.py:9: LangChainDeprecationWarning: The class `LLMChain` was deprecated in LangChain 0.1.17 and will be removed in 1.0. Use :meth:`~RunnableSequence, e.g., `prompt | llm`` instead.\n",
      "  llm_chain = LLMChain(prompt=prompt, llm=llm)\n",
      "C:\\Users\\mikiq\\AppData\\Local\\Temp\\ipykernel_33704\\1634147895.py:11: LangChainDeprecationWarning: The method `Chain.run` was deprecated in langchain 0.1.0 and will be removed in 1.0. Use :meth:`~invoke` instead.\n",
      "  llm_result = llm_chain.run({\n"
     ]
    },
    {
     "data": {
      "text/plain": [
       "'**Step-by-Step Guide for Week 10 of Pregnancy**  \\n\\nHere’s a concise, organized list of actionable steps based on your Week 10 context:  \\n\\n---\\n\\n### **1. Medical Appointments**  \\n- **Schedule/Attend a Booking Appointment**:  \\n  - Arrange this with a midwife or GP (between weeks 8–12). It includes health screenings, discussing birth options, and tests for infections/Down’s syndrome.  \\n  - Ask about continuity of care (seeing the same carer throughout pregnancy).  \\n- **Prepare for Your First Dating Scan**:  \\n  - Typically occurs between weeks 8–14. Confirm the date.  \\n\\n---\\n\\n### **2. Lifestyle Adjustments**  \\n- **Avoid Harmful Substances**:  \\n  - Quit smoking and alcohol. Reduce caffeine (tea, coffee, etc.). Seek GP/midwife support if needed.  \\n- **Combat Bloating & Digestive Issues**:  \\n  - Eat 6 small meals daily, avoid late-night eating, and reduce spicy/fatty foods or coffee.  \\n  - Take short walks after meals.  \\n\\n---\\n\\n### **3. Nutrition & Supplements**  \\n- **Prenatal Vitamins**:  \\n  - **Folic Acid**: 400mcg daily until at least week 12.  \\n  - **Vitamin D**: 10mcg daily, especially October–March (or year-round if advised). Check NHS guidelines for eligibility.  \\n- **Healthy Eating**:  \\n  - Focus on balanced meals (no need to “eat for two”). Include fruits, vegetables, and proteins.  \\n  - Explore the **Healthy Start scheme** for free milk, fruit, and veg.  \\n\\n---\\n\\n### **4. Exercise**  \\n- Aim for **150 minutes/week** of moderate exercise (e.g., brisk walks, prenatal yoga).  \\n- Try online workouts (e.g., Sport England’s #StayInWorkOut guide).  \\n\\n---\\n\\n### **5. Mental Wellbeing**  \\n- **Seek Support**:  \\n  - Talk to your midwife/GP if feeling anxious, low, or stressed about relationships, finances, or housing.  \\n  - Share concerns with partner, friends, or family.  \\n\\n---\\n\\n### **6. Antenatal Education**  \\n- **Enroll in Classes**:  \\n  - Ask your midwife about online options (e.g., Tommy’s or NCT classes). These cover birth preparation and parenting tips.  \\n\\n---\\n\\n### **7. Monitor Symptoms**  \\n- **Normal Symptoms**: Fatigue, nausea, heartburn, and light spotting (if heavy bleeding occurs, contact your doctor).  \\n- **Report Concerns**: Discuss persistent/worsening symptoms (e.g., severe cramping, dizziness) with your healthcare team.  \\n\\n---\\n\\n### **8. Additional Resources**  \\n- Explore the **Maternity Transformation Programme** for care improvements.  \\n- Read Tommy’s guides on symptoms and antenatal preparation.  \\n\\n--- \\n\\nBy following these steps, you’ll address key health, emotional, and logistical needs during this stage of pregnancy. Always consult your midwife/GP for personalized advice. 🌟'"
      ]
     },
     "execution_count": 44,
     "metadata": {},
     "output_type": "execute_result"
    }
   ],
   "source": [
    "template = \"\"\"\n",
    "Question: {question}\n",
    "\n",
    "Context: {context}\n",
    "\n",
    "Answer: Let's think step by step.\n",
    "\"\"\"\n",
    "prompt = PromptTemplate(template=template, input_variables=[\"question\", \"context\"])\n",
    "llm_chain = prompt | llm\n",
    "\n",
    "llm_result = llm_chain.run({\n",
    "    \"question\": \"what I need to do\", \n",
    "    \"context\": get_content_by_week(10)\n",
    "})\n",
    "llm_result"
   ]
  },
  {
   "cell_type": "code",
   "execution_count": 45,
   "metadata": {},
   "outputs": [
    {
     "name": "stdout",
     "output_type": "stream",
     "text": [
      "**Step-by-Step Guide for Week 10 of Pregnancy**  \n",
      "\n",
      "Here’s a concise, organized list of actionable steps based on your Week 10 context:  \n",
      "\n",
      "---\n",
      "\n",
      "### **1. Medical Appointments**  \n",
      "- **Schedule/Attend a Booking Appointment**:  \n",
      "  - Arrange this with a midwife or GP (between weeks 8–12). It includes health screenings, discussing birth options, and tests for infections/Down’s syndrome.  \n",
      "  - Ask about continuity of care (seeing the same carer throughout pregnancy).  \n",
      "- **Prepare for Your First Dating Scan**:  \n",
      "  - Typically occurs between weeks 8–14. Confirm the date.  \n",
      "\n",
      "---\n",
      "\n",
      "### **2. Lifestyle Adjustments**  \n",
      "- **Avoid Harmful Substances**:  \n",
      "  - Quit smoking and alcohol. Reduce caffeine (tea, coffee, etc.). Seek GP/midwife support if needed.  \n",
      "- **Combat Bloating & Digestive Issues**:  \n",
      "  - Eat 6 small meals daily, avoid late-night eating, and reduce spicy/fatty foods or coffee.  \n",
      "  - Take short walks after meals.  \n",
      "\n",
      "---\n",
      "\n",
      "### **3. Nutrition & Supplements**  \n",
      "- **Prenatal Vitamins**:  \n",
      "  - **Folic Acid**: 400mcg daily until at least week 12.  \n",
      "  - **Vitamin D**: 10mcg daily, especially October–March (or year-round if advised). Check NHS guidelines for eligibility.  \n",
      "- **Healthy Eating**:  \n",
      "  - Focus on balanced meals (no need to “eat for two”). Include fruits, vegetables, and proteins.  \n",
      "  - Explore the **Healthy Start scheme** for free milk, fruit, and veg.  \n",
      "\n",
      "---\n",
      "\n",
      "### **4. Exercise**  \n",
      "- Aim for **150 minutes/week** of moderate exercise (e.g., brisk walks, prenatal yoga).  \n",
      "- Try online workouts (e.g., Sport England’s #StayInWorkOut guide).  \n",
      "\n",
      "---\n",
      "\n",
      "### **5. Mental Wellbeing**  \n",
      "- **Seek Support**:  \n",
      "  - Talk to your midwife/GP if feeling anxious, low, or stressed about relationships, finances, or housing.  \n",
      "  - Share concerns with partner, friends, or family.  \n",
      "\n",
      "---\n",
      "\n",
      "### **6. Antenatal Education**  \n",
      "- **Enroll in Classes**:  \n",
      "  - Ask your midwife about online options (e.g., Tommy’s or NCT classes). These cover birth preparation and parenting tips.  \n",
      "\n",
      "---\n",
      "\n",
      "### **7. Monitor Symptoms**  \n",
      "- **Normal Symptoms**: Fatigue, nausea, heartburn, and light spotting (if heavy bleeding occurs, contact your doctor).  \n",
      "- **Report Concerns**: Discuss persistent/worsening symptoms (e.g., severe cramping, dizziness) with your healthcare team.  \n",
      "\n",
      "---\n",
      "\n",
      "### **8. Additional Resources**  \n",
      "- Explore the **Maternity Transformation Programme** for care improvements.  \n",
      "- Read Tommy’s guides on symptoms and antenatal preparation.  \n",
      "\n",
      "--- \n",
      "\n",
      "By following these steps, you’ll address key health, emotional, and logistical needs during this stage of pregnancy. Always consult your midwife/GP for personalized advice. 🌟\n"
     ]
    }
   ],
   "source": [
    "print(llm_result)"
   ]
  },
  {
   "cell_type": "code",
   "execution_count": null,
   "metadata": {},
   "outputs": [],
   "source": []
  }
 ],
 "metadata": {
  "kernelspec": {
   "display_name": "auto_apply",
   "language": "python",
   "name": "python3"
  },
  "language_info": {
   "codemirror_mode": {
    "name": "ipython",
    "version": 3
   },
   "file_extension": ".py",
   "mimetype": "text/x-python",
   "name": "python",
   "nbconvert_exporter": "python",
   "pygments_lexer": "ipython3",
   "version": "3.12.8"
  }
 },
 "nbformat": 4,
 "nbformat_minor": 2
}
