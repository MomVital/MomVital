{
 "cells": [
  {
   "cell_type": "code",
   "execution_count": 1,
   "metadata": {},
   "outputs": [
    {
     "name": "stdout",
     "output_type": "stream",
     "text": [
      "/home/ubuntu/miniconda3/envs/llm/bin/python\n"
     ]
    }
   ],
   "source": [
    "import sys\n",
    "print(sys.executable)"
   ]
  },
  {
   "cell_type": "code",
   "execution_count": 1,
   "metadata": {},
   "outputs": [],
   "source": [
    "base_url = \"https://www.nhs.uk/start-for-life/pregnancy/week-by-week-guide-to-pregnancy/\"\n",
    "trimester = {\n",
    "    1: {\n",
    "        \"url\": \"1st-trimester/week-\",\n",
    "        \"weeks\": list(range(4, 13))\n",
    "    },\n",
    "    2: {\n",
    "        \"url\": \"2nd-trimester/week-\",\n",
    "        \"weeks\": list(range(13, 28))\n",
    "    },\n",
    "    3: {\n",
    "        \"url\": \"3rd-trimester/week-\",\n",
    "        \"weeks\": list(range(28, 42))\n",
    "    }\n",
    "}\n",
    "\n",
    "import requests\n",
    "from bs4 import BeautifulSoup\n",
    "from langchain.docstore.document import Document\n",
    "\n",
    "def url_builder(week: int):\n",
    "    if week < 4 or week > 41:\n",
    "        raise ValueError(\"Week out of bound!\")\n",
    "    target = [key for key, subdict in trimester.items() if week in subdict.get(\"weeks\", [])][0]\n",
    "    return base_url + trimester[target]['url'] + str(week) + '/'\n",
    "\n",
    "def scrape_week_content(week_number: int):\n",
    "    docs = []\n",
    "\n",
    "    response = requests.get(url_builder(week_number))\n",
    "    if response.status_code == 200:\n",
    "        soup = BeautifulSoup(response.text, 'html.parser')\n",
    "\n",
    "        intro = soup.select_one(\"#maincontent > section:first-of-type div.nhsuk-u-reading-width\")\n",
    "        if intro:\n",
    "            doc = Document(\n",
    "                page_content=intro.get_text(separator=\" \", strip=True),\n",
    "                metadata={\"week\": week_number, \"section\": \"intro\"}\n",
    "            )\n",
    "            docs.append(doc)\n",
    "        else:\n",
    "            print(\"Intro not found.\")\n",
    "\n",
    "        start_section = soup.find(\"section\", id=\"whats-happening\")\n",
    "        end_section = soup.find(\"section\", id=\"action-stations\")\n",
    "        \n",
    "        current_section = start_section if start_section else None\n",
    "        \n",
    "        while current_section:\n",
    "            section_id = current_section.get(\"id\")\n",
    "            if not section_id:\n",
    "                heading_tag = current_section.find([\"h1\", \"h2\", \"h3\", \"h4\", \"h5\", \"h6\"])\n",
    "                if heading_tag:\n",
    "                    section_id = heading_tag.get_text(strip=True)\n",
    "                else:\n",
    "                    section_id = \"No ID\"\n",
    "            doc = Document(\n",
    "                page_content=current_section.get_text(separator=\" \", strip=True),\n",
    "                metadata={\"week\": week_number, \"section\": section_id}\n",
    "            )\n",
    "            docs.append(doc)\n",
    "            if current_section == end_section:\n",
    "                break  # Stop after including the end section\n",
    "            current_section = current_section.find_next_sibling(\"section\")\n",
    "    else:\n",
    "        print(f\"Failed to fetch page. Status code: {response.status_code}\")\n",
    "\n",
    "    return docs"
   ]
  },
  {
   "cell_type": "code",
   "execution_count": 2,
   "metadata": {},
   "outputs": [],
   "source": [
    "all_docs = []\n",
    "\n",
    "for week in range(4, 42):\n",
    "    all_docs.extend(scrape_week_content(week))"
   ]
  },
  {
   "cell_type": "code",
   "execution_count": 3,
   "metadata": {},
   "outputs": [
    {
     "data": {
      "text/plain": [
       "Document(metadata={'week': 4, 'section': 'intro'}, page_content=\"Week 4 To the outside world, you'll look much the same as usual – but on the inside, your embryo is about the size of a poppy seed and some amazing things are happening. For information on your pregnancy journey, sign up for regular emails tailored to your stage of pregnancy or baby's age.\")"
      ]
     },
     "execution_count": 3,
     "metadata": {},
     "output_type": "execute_result"
    }
   ],
   "source": [
    "all_docs[0]"
   ]
  },
  {
   "cell_type": "code",
   "execution_count": 2,
   "metadata": {},
   "outputs": [],
   "source": [
    "from langchain.docstore.document import Document\n",
    "from langchain.embeddings import HuggingFaceEmbeddings\n",
    "from langchain.vectorstores import FAISS\n",
    "\n",
    "embeddings_model = HuggingFaceEmbeddings(model_name=\"all-MiniLM-L6-v2\")\n",
    "try:\n",
    "    # This will fail if all_docs is not defined\n",
    "    vectordb = FAISS.from_documents(all_docs, embeddings_model)\n",
    "    vectordb.save_local(\"../data/vectordb\")\n",
    "except NameError:\n",
    "    # all_docs is undefined, so load the FAISS index instead\n",
    "    vectordb = FAISS.load_local(\"../data/vectordb\", embeddings_model, allow_dangerous_deserialization=True)"
   ]
  },
  {
   "cell_type": "code",
   "execution_count": 3,
   "metadata": {},
   "outputs": [],
   "source": [
    "import re\n",
    "\n",
    "def search(query, vectordb=vectordb, k=20):\n",
    "    # Perform similarity search\n",
    "    results = vectordb.similarity_search_with_score(query, k=k)\n",
    "    return results\n",
    "    \n",
    "\n",
    "def search_filter(results_with_score=None, vectordb=vectordb, week_filter=None, section_filter=None):\n",
    "    documents = results_with_score or [(doc, None) for doc in vectordb.docstore._dict.values()]\n",
    "    return [\n",
    "        (doc, score) for doc, score in documents\n",
    "        if (week_filter is None or doc.metadata.get(\"week\") == week_filter)\n",
    "        and (section_filter is None or doc.metadata.get(\"section\") == section_filter)\n",
    "    ]\n",
    "\n",
    "def get_content_by_week(week: int, vectordb=vectordb):\n",
    "    docs = search_filter(week_filter=week, vectordb=vectordb)\n",
    "    result = \"\"\n",
    "    line = \"=\" * 50\n",
    "\n",
    "    for doc, score in docs:\n",
    "        title = f\"\\nWEEK: {doc.metadata['week']}; SECTION: {doc.metadata['section']}\\n\\n\"\n",
    "        content = doc.page_content\n",
    "\n",
    "        result += \"\\n\" + line + title + re.sub(r'([.!?])\\s*', r'\\1\\n', content) + line\n",
    "\n",
    "    return result"
   ]
  },
  {
   "cell_type": "code",
   "execution_count": 10,
   "metadata": {},
   "outputs": [
    {
     "name": "stdout",
     "output_type": "stream",
     "text": [
      "{'due', 'blues', 'gaining-weight', 'intro', 'RSV vaccination', 'sling-safety', 'signs-of-labour', 'home-birth', 'look-like', 'alcohol', '2nd-trimester-pregnancy-signs', 'Whooping cough vaccination', 'constipation', 'gas', 'births', 'early-pregnancy-signs', 'maternity-service', 'stretch-marks', '8-tips', '7-things', 'feeding', 'pregnant', 'Strange symptoms', 'whats-happening', 'Carbon monoxide alert', 'boy-or-girl', 'contact', 'teeth', 'RSV-vaccination', 'how-should-I-sleep-in-pregnancy?', 'certificate', 'diet', 'sleep', 'single-parent', 'induced-labour', 'pants', 'movements', 'vaginal-after-caesarean', 'scan', 'action-stations', 'maternity-leave', 'cravings', 'prescriptions', 'nausea', 'whooping-cough', '9-signs', 'clothes', 'nosebleeds', 'sun', 'talk', 'flying', 'sleeping-positions', 'Super snacks', 'bring-on-labour', '3rd-trimester-pregnancy-signs', 'bloating', 'jabs', 'infection', 'group-b-strep', 'thrush', 'vit-k', 'firstscan', 'quit-smoking', 'prep', 'pain-management', 'Eye eye!', 'piles', 'germs'}\n"
     ]
    }
   ],
   "source": [
    "# All sections\n",
    "print(set([doc[0].metadata['section'] for doc in search_filter()]))"
   ]
  },
  {
   "cell_type": "code",
   "execution_count": null,
   "metadata": {},
   "outputs": [],
   "source": [
    "search(\"when to go to hospital\", vectordb=vectordb)"
   ]
  },
  {
   "cell_type": "code",
   "execution_count": 11,
   "metadata": {},
   "outputs": [],
   "source": [
    "from langchain_openai import ChatOpenAI\n",
    "from langchain.prompts import PromptTemplate\n",
    "from dotenv import load_dotenv\n",
    "import os\n",
    "\n",
    "load_dotenv()\n",
    "\n",
    "llm = ChatOpenAI(\n",
    "  openai_api_key=os.getenv(\"API_KEY\"),\n",
    "  openai_api_base=\"https://openrouter.ai/api/v1\",\n",
    "  model_name=\"deepseek/deepseek-r1\"\n",
    ")\n"
   ]
  },
  {
   "cell_type": "code",
   "execution_count": 13,
   "metadata": {},
   "outputs": [],
   "source": [
    "template = \"\"\"\n",
    "Question: {question}\n",
    "\n",
    "Context: {context}\n",
    "\n",
    "Answer: Let's think step by step.\n",
    "\"\"\"\n",
    "input_variables = [\"question\", \"context\"]\n",
    "query = {\n",
    "    \"question\": \"what I need to do\", \n",
    "    \"context\": get_content_by_week(10)\n",
    "}"
   ]
  },
  {
   "cell_type": "code",
   "execution_count": 17,
   "metadata": {},
   "outputs": [
    {
     "name": "stdout",
     "output_type": "stream",
     "text": [
      "**What You Need to Do at 10 Weeks Pregnant**  \n",
      "\n",
      "### **Medical Appointments**  \n",
      "1. **Schedule/Attend Booking Appointment**:  \n",
      "   - Arrange with your midwife/GP (between weeks 8–12). Discuss pregnancy options, birth plans, and screening tests (e.g., Down’s syndrome, infections).  \n",
      "   - Ask about continuity of care (seeing the same carer throughout pregnancy).  \n",
      "\n",
      "2. **First Dating Scan**:  \n",
      "   - Schedule between weeks 8–14 to monitor baby’s growth and confirm due date.  \n",
      "\n",
      "---\n",
      "\n",
      "### **Lifestyle Adjustments**  \n",
      "- **Avoid Harmful Substances**:  \n",
      "  - Quit smoking and alcohol; reduce caffeine (tea, coffee, energy drinks). Seek support from your midwife/GP.  \n",
      "- **Antenatal Classes**:  \n",
      "  - Enroll in online or local classes (e.g., NCT) to prepare for birth and connect with others.  \n",
      "\n",
      "---\n",
      "\n",
      "### **Diet & Supplements**  \n",
      "- **Prenatal Vitamins**:  \n",
      "  - **Folic Acid**: 400mcg daily until at least week 12 to support baby’s nervous system.  \n",
      "  - **Vitamin D**: 10mcg daily, especially October–March (or year-round if advised). Check NHS guidelines for eligibility.  \n",
      "- **Healthy Eating**:  \n",
      "  - Focus on balanced meals (no need to “eat for two”). Include fruits, vegetables, and fiber.  \n",
      "  - Apply for free milk/fruit via the **Healthy Start Scheme** if eligible.  \n",
      "\n",
      "---\n",
      "\n",
      "### **Symptom Management**  \n",
      "- **Bloating/Indigestion**:  \n",
      "  - Eat 6 small meals daily, avoid late-night eating, and reduce spicy/fatty foods. Take post-meal walks.  \n",
      "  - Sip fluids slowly; avoid carbonated drinks.  \n",
      "- **Other Symptoms**:  \n",
      "  - Track symptoms (nausea, fatigue, etc.) and report severe issues (e.g., bleeding) to your midwife/doctor.  \n",
      "\n",
      "---\n",
      "\n",
      "### **Exercise**  \n",
      "- Aim for **150 minutes/week** of moderate activity (e.g., brisk walking, prenatal exercises). Start with 10-minute daily sessions.  \n",
      "\n",
      "---\n",
      "\n",
      "### **Mental Wellbeing**  \n",
      "- **Seek Support**:  \n",
      "  - Discuss anxiety, low mood, or concerns (e.g., finances, housing) with your midwife, partner, or family.  \n",
      "  - Utilize resources like Tommy’s charity for guidance.  \n",
      "\n",
      "---\n",
      "\n",
      "### **Baby Development Check**  \n",
      "- Note that your baby is ~30mm long (apricot-sized) with visible facial features and a heartbeat of ~180bpm. Movements can be seen on scans.  \n",
      "\n",
      "By addressing these steps, you’ll prioritize both your health and your baby’s development during this critical stage. Always consult your healthcare provider with specific concerns."
     ]
    }
   ],
   "source": [
    "prompt = PromptTemplate(template=template, input_variables=input_variables)\n",
    "llm_chain = prompt | llm\n",
    "\n",
    "output = []\n",
    "for chunk in llm_chain.stream(query):\n",
    "    print(chunk.content, end=\"\", flush=True)\n",
    "    output.append(chunk.content)\n",
    "final_output = \"\".join(output)"
   ]
  },
  {
   "cell_type": "code",
   "execution_count": 15,
   "metadata": {},
   "outputs": [
    {
     "name": "stdout",
     "output_type": "stream",
     "text": [
      "**What You Need to Do During Week 10 of Pregnancy**  \n",
      "\n",
      "### 1. **Medical Appointments & Planning**  \n",
      "- **Schedule a Booking Appointment**: Contact your midwife or GP (or self-refer via your local hospital's website). This 1-hour appointment (ideally done by week 12) includes:  \n",
      "  - Screening tests for infections and conditions like Down’s syndrome.  \n",
      "  - Discussions about pregnancy/birth options.  \n",
      "  - Inquiring about the *Maternity Transformation Programme* for additional support.  \n",
      "- **First Dating Scan**: Prepare for this ultrasound between weeks 8–14.  \n",
      "- **Continuity of Care**: Ask if you can see the same healthcare provider throughout your pregnancy.  \n",
      "\n",
      "### 2. **Lifestyle Adjustments**  \n",
      "- **Stop Harmful Habits**:  \n",
      "  - Quit smoking and alcohol; reduce caffeine (tea, coffee, energy drinks).  \n",
      "  - Seek support from your midwife/GP if needed.  \n",
      "- **Manage Bloating/Indigestion**:  \n",
      "  - Eat 6 small meals daily (avoid late-night eating).  \n",
      "  - Avoid spicy, fatty, or rich foods; limit coffee if symptoms arise.  \n",
      "  - Take short walks after meals.  \n",
      "\n",
      "### 3. **Prenatal Vitamins**  \n",
      "- **Folic Acid (400mcg/day)**: Essential until at least week 12 to prevent neural tube defects.  \n",
      "- **Vitamin D (10mcg/day)**: Take year-round if at risk of deficiency (e.g., limited sun exposure). October–March is critical for most.  \n",
      "- **Check Eligibility**: You may qualify for free vitamins via the NHS *Healthy Start* scheme.  \n",
      "\n",
      "### 4. **Exercise & Nutrition**  \n",
      "- **Exercise**: Aim for 150 minutes/week (e.g., 10-minute brisk walks). Use *Sport England’s #StayInWorkOut* guides (pregnancy-safe exercises).  \n",
      "- **Healthy Diet**: Prioritize fruits, vegetables, and balanced meals. No need to “eat for two.” Apply for free milk/fruit via *Healthy Start*.  \n",
      "\n",
      "### 5. **Antenatal Preparation**  \n",
      "- **Enroll in Classes**: Ask your midwife about online/local options (e.g., NCT’s classes) to connect with others and learn about birth/parenthood.  \n",
      "\n",
      "### 6. **Mental Health & Wellbeing**  \n",
      "- **Seek Support**: Talk openly with your midwife, partner, or family if you feel anxious, low, or stressed about finances, housing, or relationships.  \n",
      "- **Rest**: Manage fatigue by prioritizing sleep and listening to your body.  \n",
      "\n",
      "### 7. **Track Symptoms**  \n",
      "- Report concerning signs (e.g., bleeding, severe cramps) to your doctor immediately. Common symptoms like nausea, heartburn, or mood swings are typical but discuss persistent issues.  \n",
      "\n",
      "By focusing on these steps, you’ll address both physical health and emotional needs while preparing for the weeks ahead. 🍀\n"
     ]
    }
   ],
   "source": [
    "print(final_output)"
   ]
  },
  {
   "cell_type": "code",
   "execution_count": 20,
   "metadata": {},
   "outputs": [
    {
     "data": {
      "image/png": "[encoded data removed]",
      "text/plain": [
       "<PIL.PngImagePlugin.PngImageFile image mode=RGBA size=600x600>"
      ]
     },
     "metadata": {},
     "output_type": "display_data"
    }
   ],
   "source": [
    "import numpy as np\n",
    "import pickle\n",
    "import matplotlib.pyplot as plt\n",
    "from PIL import Image\n",
    "\n",
    "data = np.load('../data/vid_results.npz')\n",
    "with open('../data/hrv_result.pkl', 'rb') as f:\n",
    "    hrv_result = pickle.load(f)\n",
    "\n",
    "with open('../data/nni.pkl', 'rb') as file:\n",
    "    nni_seq = pickle.load(file)\n",
    "\n",
    "bvps = data['bvps']\n",
    "timesES = data['timesES']\n",
    "bpmES = data['bpmES']\n",
    "\n",
    "nni_histogram_img = Image.open('../data/nni_histogram.png')\n",
    "nni_histogram_img.show()"
   ]
  },
  {
   "cell_type": "code",
   "execution_count": 21,
   "metadata": {},
   "outputs": [
    {
     "data": {
      "text/plain": [
       "OrderedDict([('nni_counter', 120),\n",
       "             ('nni_mean', 553.3333333333334),\n",
       "             ('nni_min', 333.33000000000175),\n",
       "             ('nni_max', 1566.6599999999999),\n",
       "             ('hr_mean', 111.65753884657585),\n",
       "             ('hr_min', 38.29803531078856),\n",
       "             ('hr_max', 180.00180001799924),\n",
       "             ('hr_std', 16.81089529174918),\n",
       "             ('nni_diff_mean', 78.43201680672234),\n",
       "             ('nni_diff_min', 0),\n",
       "             ('nni_diff_max', 1066),\n",
       "             ('sdnn', 124.00100152301778),\n",
       "             ('sdnn_index', nan),\n",
       "             ('sdann', nan),\n",
       "             ('rmssd', 165.232111985208),\n",
       "             ('sdsd', 146.04556634297504),\n",
       "             ('nn50', 51),\n",
       "             ('pnn50', 42.857142857142854),\n",
       "             ('nn20', 91),\n",
       "             ('pnn20', 76.47058823529412),\n",
       "             ('tinn_n', 523.4375),\n",
       "             ('tinn_m', 539.0625),\n",
       "             ('tinn', 15.625),\n",
       "             ('tri_index', 3.6363636363636362)])"
      ]
     },
     "execution_count": 21,
     "metadata": {},
     "output_type": "execute_result"
    }
   ],
   "source": [
    "hrv_result"
   ]
  },
  {
   "cell_type": "code",
   "execution_count": null,
   "metadata": {},
   "outputs": [],
   "source": []
  }
 ],
 "metadata": {
  "kernelspec": {
   "display_name": "Python (llm)",
   "language": "python",
   "name": "llm"
  },
  "language_info": {
   "codemirror_mode": {
    "name": "ipython",
    "version": 3
   },
   "file_extension": ".py",
   "mimetype": "text/x-python",
   "name": "python",
   "nbconvert_exporter": "python",
   "pygments_lexer": "ipython3",
   "version": "3.11.11"
  }
 },
 "nbformat": 4,
 "nbformat_minor": 4
}
